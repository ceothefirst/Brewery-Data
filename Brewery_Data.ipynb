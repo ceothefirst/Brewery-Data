#import necessary libraries for the analysis
import numpy as np
import pandas as pd


df = pd.read_csv('/Users/ceo/Downloads/Send Anywhere (2023-04-11 16-18-09)/brewery_data.csv')
df

#Perform initial check on the dataset before working on it.
#they are shape, info ,type & duplicates

df.info()
#to know your column data types and ensure they are accurate

df.shape
#to know the shape of your dataset. (rows,columns)

df.isna().sum()
#to know the number of empty data by column

#To see a list of duplicated ROWS in large dataset
df[df.duplicated()]

df



`1. Within the space of the last three years, what was the profit worth of the breweries, inclusive of the anglophone and the francophone territories?`


#To find the unique years in the year column
df['YEARS'].unique()

#To find the no. of Unique years in the year column
df['YEARS'].nunique()

#To find the unique countries in the countries column. (This will help you dentify anlophone and francophone territories)
df['COUNTRIES'].unique()

`We can Note that we have confirmed that the dataset contains only countries within anglophone & francophone territories`
`We can also identify that there are only 3 years with wich this data refers to.`
`Hence we can act on the full Dataset`

#To find the profit worth
df['PROFIT'].sum()



`2. Compare the total profit between these two territories in order for the territory manager, Mr. Stone to make a strategic decision that will aid profit maximization in 2020.`

#To filter the dataframe by anglophone countries. Use:
anglo = df[(df['COUNTRIES']== 'Nigeria')|(df['COUNTRIES']=='Ghana')]
anglo

#OR...

anglophone = df[df.COUNTRIES.isin(['Nigeria','Ghana'])]
anglophone

#To filter the dataframe by francophone countries. Use:
franc = df[(df['COUNTRIES']== 'Benin')|(df['COUNTRIES']=='Togo')|(df['COUNTRIES']=='Senegal')]
franc

#OR

franco = df[df.COUNTRIES.isin(['Benin','Togo','Senegal'])]
franco

#OR
#Use the 'Bitwise' operator
francophone = df[~df.COUNTRIES.isin(['Nigeria','Ghana'])]
francophone

#STUDY ALL BITWISE OPERATORS FOR PYTHON

#All profits of anglophone&francophone countries

anglo['PROFIT'].sum()

franco['PROFIT'].sum()

`3. Country that generated the highest profit in 2019`

#First, find the country with the highest profit.
Profit_Max = df.groupby('COUNTRIES')['PROFIT'].sum()
Profit_Max

#To find all transactions in 2019 only
Profit_2019 = df [df.YEARS.isin([2019])]
Profit_2019_M = Profit_2019.groupby('COUNTRIES')['PROFIT'].sum().sort_values(ascending = False)
Profit_2019_M

#From above, the country that generated the highest profty is GHANA with 7144070



`4.  Help him find the year with the highest profit.`

#To find the year with the highest profit, First find the profits for each year.
Profitby_Year = df.groupby('YEARS')['PROFIT'].sum()
Profitby_Year

#From above, the YEAR with highest profit is 2017



#TO slice through a DataFrame.
cell = df[df['PROFIT']==38150]
cell


`5. Which month in the three years was the least profit generated?`

#First find the total profit by Month & year & keep as DF
Profitby_Month_and_year = df.groupby(['MONTHS','YEARS'])['PROFIT'].sum().reset_index()
Profitby_Month_and_year

#Now, find the total profit by each month for the three years & sort in ascending order & keep as Df
Total_profit_by_months = Profitby_Month_and_year.groupby(['MONTHS'])['PROFIT'].sum().sort_values().reset_index()
Total_profit_by_months

#Finally, select the Top row which is the month with the Min profit generated.
Total_profit_by_months.loc[0]



`6. What was the minimum profit in the month of December 2018?`

df

#Find the sales for dec 2018
sales_dec2018 = df[df['YEARS'].isin([2018]) & df['MONTHS'].isin(['December'])]
sales_dec2018

#Find the min profit for sales in dec2018
min_profit_sales_dec2018 = sales_dec2018.groupby(['YEARS','MONTHS'])['PROFIT'].min().reset_index()
min_profit_sales_dec2018



`7. Compare the profit in percentage for each of the month in 2019`

#Group Profit & cost by months in 2019.
#Find the total profit & total costs for each month in 2019
#Find the percentage profit for each month in 2019 (profit/cost)*100

df

#Find the total profit & total costs for each month in 2019
totalprofit_2019 = df[df['YEARS'].isin([2019])]
totalprofit_cost2019_monthly = totalprofit_2019.groupby(['MONTHS','YEARS'])['PROFIT','COST'].sum().reset_index()
totalprofit_cost2019_monthly 

#Find the percentage profit for each month in 2019 (profit/cost)*100.
def get_percentage_profit(totalprofit_cost2019_monthly):
    profit = totalprofit_cost2019_monthly['PROFIT']
    cost = totalprofit_cost2019_monthly['COST']
    return (profit/cost)*100


#get the new series showing the percentage profit
percentage_profit = totalprofit_cost2019_monthly.groupby(['MONTHS','YEARS','PROFIT','COST']).apply(get_percentage_profit)
percentage_profit

#Convert to a new frame and add to existing subset of data
percentage_profit = percentage_profit.to_frame(name = "Percentage Profit")
percentage_profit

percentage_profit= percentage_profit.reset_index().drop(columns='level_4')
percentage_profit



`8. Which particular brand generated the highest profit in Senegal?`

df

#find the max profit for brands in senegal
senegal = df[df['COUNTRIES']=='Senegal']
senegalbrand = senegal.groupby(['BRANDS'])['PROFIT'].sum().sort_values(ascending = False)
senegalbrand



`7. Compare the profit in percentage for each of the month in 2019`

#REDO
df

#method 1
#Group the data for year 2019 into a series showing profits for each month in 2019
df_2019 = df[df['YEARS'].isin([2019])]
months_in_2019 = df_2019.groupby(['MONTHS'])['PROFIT'].sum()
months_in_2019

net_profit_2019 = months_in_2019.sum()
net_profit_2019

months_in_2019.keys()

for k,v in months_in_2019.items():
    avg = (v/net_profit_2019)*100
    
    print(k,round(avg,2))
    

#Method 2

#First, get a list of the profit per month
vc =  months_in_2019.reset_index()
vc

dvc = vc['MONTHS'].unique()
dvc

#Now, Get a list of percentages per profit for each month... 
ap = []
for i in months_in_2019:
    percent_profit = round((i*100)/net_profit_2019,2)
    ap.append(percent_profit)
print(ap)

#FINALLY, add both lists into a dictionary
zipp = dict(zip(dvc,ap))
print(zipp)
print()
for i, n in zipp.items():
    print(f'The Profit for {i} is {n}%')



`BRAND ANALYSIS`

`1. Within the last two years, the brand manager wants to know the top three brands consumed in the francophone countries`

df



#First, Find the top 2 years in the dataset after which you can find the top 3 brands in terms of sales quantity

franco_top2 = franco[(franco.YEARS ==2018) | (franco.YEARS ==2019)]
brand_top2 = franco_top2.groupby(['BRANDS'])['QUANTITY'].sum().sort_values(ascending = False).index[:3]
brand_top2


#2. Find out the top two choice of consumer brands in Ghana
brand_ghana = df[df.COUNTRIES =='Ghana']
ghana_top2_qty = brand_ghana.groupby(['BRANDS'])['QUANTITY'].sum().sort_values(ascending = False).index[:2]
ghana_top2_qty

#3. Find out the details of beers consumed in the past three years in the most oil reached country in West Africa.
df_nigeria = df[df.COUNTRIES =='Nigeria']
df_nigeria_3yrs = df_nigeria[(df_nigeria.YEARS == 2017)|(df_nigeria.YEARS == 2018)|(df_nigeria.YEARS == 2019)]
#df_nigeria_3yrs_beer = df_nigeria_3yrs.groupby(['BRANDS'])['QUANTITY'].sum().sort_values(ascending = False).reset_index()
#df_nigeria_3yrs_beer

#3. Find out the details of beers consumed in the past three years in the most oil reached country in West Africa.

df_nigeria_3yrs_beer = df_nigeria_3yrs [(df_nigeria_3yrs.BRANDS == 'budweiser') | (df_nigeria_3yrs.BRANDS == 'eagle lager') |(df_nigeria_3yrs.BRANDS == 'hero') | (df_nigeria_3yrs.BRANDS == 'castle lite')| (df_nigeria_3yrs.BRANDS == 'trophy')]
nigeria_beer =  df_nigeria_3yrs_beer.groupby(['BRANDS'])['QUANTITY'].sum().sort_values(ascending = False)
nigeria_beer


#4. Favorites malt brand in Anglophone region between 2018 and 2019
anglo_18_19 = anglo[(anglo.YEARS == 2019)|(anglo.YEARS == 2018)]
#anglo_18_19_fav = anglo_18_19.groupby(['BRANDS'])['QUANTITY'].sum().sort_values(ascending=False).index[0]
#anglo_18_19_fav

anglo_18_19.BRANDS.unique()

#4. Favorites malt brand in Anglophone region between 2018 and 2019
anglo_18_19_malt = anglo_18_19[(anglo_18_19.BRANDS == 'beta malt') | (anglo_18_19.BRANDS == 'grand malt')]
anglo_18_19_fav_malt =  anglo_18_19_malt.groupby(['BRANDS'])['QUANTITY'].sum().sort_values(ascending = False)
anglo_18_19_fav_malt

#5. Which brands sol`d the highest in 2019 in Nigeria?
dfng_2019 = df_2019[df_2019.COUNTRIES == 'Nigeria']
df_top2019 = dfng_2019.groupby(['BRANDS'])['QUANTITY'].sum().sort_values(ascending = False)

df_top2019

df.BRANDS.unique()

#6. Favorites brand in South_South region in Nigeria
southsouth_ng = df_nigeria[df_nigeria.REGION.isin(['southsouth'])]
fav_southsouth_ng = southsouth_ng.groupby(['BRANDS'])['QUANTITY'].sum().sort_values(ascending = False)

fav_southsouth_ng 

#7. Beer consumption in Nigeria
beer_ng = df_nigeria[~df_nigeria.BRANDS.isin(['beta malt', 'grand malt'])]
beer_cons = beer_ng['QUANTITY'].sum()
beer_cons



#8. Level of consumption of Budweiser in the regions in Nigeria
budweiser_ng =df_nigeria[df_nigeria['BRANDS'] =='budweiser']
b_ng  = budweiser_ng .groupby(['REGION'])['QUANTITY'].sum().sort_values(ascending = False).reset_index()
b_ng



#9. Level of consumption of Budweiser in the regions in Nigeria in 2019 (Decision on Promo)
budweiser_ng_19 = budweiser_ng[budweiser_ng['YEARS'] == 2019]
b_ng_19 = budweiser_ng_19.groupby(['REGION'])['QUANTITY'].sum().sort_values(ascending=False).reset_index()
b_ng_19







`COUNTRIES ANALYSIS`

#1. Country with the highest consumption of beer
consumption = df.groupby(['COUNTRIES'])['QUANTITY'].sum().sort_values(ascending = False).reset_index()
consumption 

#2. Highest sales personnel of Budweiser in Senegal
budweiser_senegal = senegal.groupby(['SALES_REP'])['QUANTITY'].sum().sort_values(ascending = False).index[0]
budweiser_senegal

#3. Country with the highest profit of the fourth quarter in 2019
#q4 is sum of Oct,Nov,Dec

q4_2019 = df_2019[df_2019['MONTHS'].isin(['October','Novemeber','December'])]
q4_2019_total= q4_2019.groupby(['COUNTRIES'])['PROFIT'].sum().sort_values(ascending = False).reset_index()
q4_2019_total



df

`More Analysis`

#1.Country with the highest profit in 2018 using gmail
# here you must expand the split to cover both new columns being created. (use expand = True)

df[['username','domain_name']] = df['EMAILS'].str.split('@', expand = True)
df_2018_gmail = df[(df.YEARS == 2018)&(df.domain_name == 'gmail.com')]
df_2018_gmail_profit = df_2018_gmail.groupby(['COUNTRIES'])['PROFIT'].sum().sort_values(ascending = False)
df_2018_gmail_profit



df_2018_gmail

#2. The profit of yahoo mail in the last 2 years in Francophone Countries
#3. Highest sales personnel of budweiser in senegal using uk.com mail
#4. which brand that uses yahoomail sold the highest in 2019 in south south nigeria
#5.profit of yahoo mail in december 2019
#6. the profit of gmail in the anglophone countries in the last 2 years
#7. display the dataframe that shows all the columns for the minimum profit



dict1 = {'1' : 'one', '2' : 'two', '3' : 'three', '4':'four', '5':5
       } 
dict1

for k,v in dict1.items():
    print(f'{k} is spelt as {v+v}')

for i in dict1:
    print(i)

`Answers to the questions above`

#2. The profit of yahoo mail in the last 2 years in Francophone Countries

franco[['USERNAME','DOMAIN']] = franco['EMAILS'].str.split('@', expand = True)

franco

#2. The profit of yahoo mail in the last 2 years in Francophone Countries
franco_yahoo = franco[franco.DOMAIN.isin(['yahoo.com'])&franco.YEARS.isin([2019,2018])]
franco_yahoo 

#profit of yahoo mail customer by country.
franco_yahoo['PROFIT'].sum()



#3. Highest sales personnel of budweiser in senegal using uk.com mail
df_senegal= df[(df["COUNTRIES"]=='Senegal')]
df_senegal

df_senegal_uk_bud = df_senegal[(df_senegal.BRANDS == 'budweiser')&(df_senegal.domain_name == 'uk.com')]
df_senegal_uk_bud_sales = df_senegal_uk_bud.groupby(['SALES_REP'])['QUANTITY'].sum().sort_values(ascending =False)
df_senegal_uk_bud_sales



#4. which brand that uses yahoomail sold the highest in 2019 in south south nigeria
southsouth_ng[['USERNAME','DOMAIN']] = southsouth_ng.EMAILS.str.split('@',expand = True)

southsouth_ng_2019_yahoo = southsouth_ng[(southsouth_ng['YEARS']== 2019)&(southsouth_ng['DOMAIN']== 'yahoo.com')]
southsouth_ng_2019_yahoo_topb = southsouth_ng_2019_yahoo.groupby(['BRANDS'])['QUANTITY'].sum().sort_values(ascending = False)
southsouth_ng_2019_yahoo_topb



#5.profit of yahoo mail in december 2019

df_2019[['USERNAME','DOMAIN']] = df_2019.EMAILS.str.split('@',expand = True)
df_2019_yahoo_profit_dec = df_2019[(df_2019.DOMAIN=='yahoo.com')& (df_2019.MONTHS=='December')]['PROFIT'].sum()#.groupby(['EMAILS'])['PROFIT'].
df_2019_yahoo_profit_dec



#6. the profit of gmail in the anglophone countries in the last 2 years
anglo[['USERNAME','DOMAIN']] = anglo.EMAILS.str.split('@', expand = True)
anglo_gmail_1819 = anglo[(anglo.DOMAIN =='gmail.com')&((anglo.YEARS ==2018)|(anglo.YEARS ==2019))].groupby(['DOMAIN'])['PROFIT'].sum().sort_values(ascending = False)

anglo_gmail_1819



#7. display the dataframe that shows all the columns for the minimum profit

df_min =df['PROFIT'].min()

df[df['PROFIT'] == df['PROFIT'].min()]

df[df['PROFIT'] == df['PROFIT'].max()]

df = df.reset_index()

df['index'].dtype

#Slicing through a DataFrame
df.loc[3:50]















